
{
 "cells": [
  {
   "cell_type": "markdown",
   "metadata": {},
   "source": [
    "## Neural Networks from scratch"
   ]
  },
  {
   "cell_type": "code",
   "execution_count": 147,
   "metadata": {},
   "outputs": [
    {
     "name": "stdout",
     "output_type": "stream",
     "text": [
      "The autoreload extension is already loaded. To reload it, use:\n",
      "  %reload_ext autoreload\n"
     ]
    }
   ],
   "source": [
    "import matplotlib.pyplot as plt\n",
    "import numpy as np\n",
    "from models.neural_net import NeuralNetwork\n",
    "from utils.data_process import get_FASHION_data\n",
    "\n",
    "%matplotlib inline\n",
    "plt.rcParams['figure.figsize'] = (10.0, 8.0)  # set default size of plots\n",
    "\n",
    "%load_ext autoreload\n",
    "%autoreload 2"
   ]
  },
  {
   "cell_type": "markdown",
   "metadata": {},
   "source": [
    "## Loading Fashion-MNIST\n",
    "\n",
    "This is the dataset we will use to text our neural network. It consists of 10 classes of digits for recognition and classification."
   ]
  },
  {
   "cell_type": "code",
   "execution_count": 148,
   "metadata": {},
   "outputs": [],
   "source": [
    "# You can change these numbers for experimentation\n",
    "# For submission be sure they are set to the default values\n",
    "TRAIN_IMAGES = 50000\n",
    "VAL_IMAGES = 10000\n",
    "TEST_IMAGES = 10000\n",
    "\n",
    "data = get_FASHION_data(TRAIN_IMAGES, VAL_IMAGES, TEST_IMAGES)\n",
    "\n",
    "X_train, y_train = data['X_train'], data['y_train']\n",
    "X_val, y_val = data['X_val'], data['y_val']\n",
    "X_test, y_test = data['X_test'], data['y_test']"
   ]
  },
  {
   "cell_type": "markdown",
   "metadata": {},
   "source": [
    "## Train using SGD"
   ]
  },
  {
   "cell_type": "code",
   "execution_count": 343,
   "metadata": {},
   "outputs": [
    {
     "name": "stdout",
     "output_type": "stream",
     "text": [
      "epoch: 0\n",
      "epoch: 1\n",
      "epoch: 2\n",
      "epoch: 3\n",
      "epoch: 4\n",
      "epoch: 5\n",
      "epoch: 6\n",
      "epoch: 7\n",
      "epoch: 8\n",
      "epoch: 9\n",
      "epoch: 10\n",
      "epoch: 11\n",
      "epoch: 12\n",
      "epoch: 13\n",
      "epoch: 14\n",
      "epoch: 15\n",
      "epoch: 16\n",
      "epoch: 17\n",
      "epoch: 18\n",
      "epoch: 19\n",
      "epoch: 20\n",
      "epoch: 21\n",
      "epoch: 22\n",
      "epoch: 23\n",
      "epoch: 24\n",
      "epoch: 25\n",
      "epoch: 26\n",
      "epoch: 27\n",
      "epoch: 28\n",
      "epoch: 29\n",
      "epoch: 30\n",
      "epoch: 31\n",
      "epoch: 32\n",
      "epoch: 33\n",
      "epoch: 34\n",
      "epoch: 35\n",
      "epoch: 36\n",
      "epoch: 37\n",
      "epoch: 38\n",
      "epoch: 39\n",
      "epoch: 40\n",
      "epoch: 41\n",
      "epoch: 42\n",
      "epoch: 43\n",
      "epoch: 44\n",
      "epoch: 45\n",
      "epoch: 46\n",
      "epoch: 47\n",
      "epoch: 48\n",
      "epoch: 49\n",
      "epoch: 50\n",
      "epoch: 51\n",
      "epoch: 52\n",
      "epoch: 53\n",
      "epoch: 54\n",
      "epoch: 55\n",
      "epoch: 56\n",
      "epoch: 57\n",
      "epoch: 58\n",
      "epoch: 59\n",
      "epoch: 60\n",
      "epoch: 61\n",
      "epoch: 62\n",
      "epoch: 63\n",
      "epoch: 64\n",
      "epoch: 65\n",
      "epoch: 66\n",
      "epoch: 67\n",
      "epoch: 68\n",
      "epoch: 69\n",
      "epoch: 70\n",
      "epoch: 71\n",
      "epoch: 72\n",
      "epoch: 73\n",
      "epoch: 74\n",
      "epoch: 75\n",
      "epoch: 76\n",
      "epoch: 77\n",
      "epoch: 78\n",
      "epoch: 79\n",
      "epoch: 80\n",
      "epoch: 81\n",
      "epoch: 82\n",
      "epoch: 83\n",
      "epoch: 84\n",
      "epoch: 85\n",
      "epoch: 86\n",
      "epoch: 87\n",
      "epoch: 88\n",
      "epoch: 89\n",
      "epoch: 90\n",
      "epoch: 91\n",
      "epoch: 92\n",
      "epoch: 93\n",
      "epoch: 94\n",
      "epoch: 95\n",
      "epoch: 96\n",
      "epoch: 97\n",
      "epoch: 98\n",
      "epoch: 99\n"
     ]
    }
   ],
   "source": [
    "# Hyperparameters\n",
    "input_size = 784\n",
    "num_layers = 2\n",
    "hidden_size = 20\n",
    "hidden_sizes = [hidden_size] * (num_layers - 1)\n",
    "num_classes = 10\n",
    "epochs = 100\n",
    "batch_size = 200\n",
    "learning_rate = 3.5e-3\n",
    "learning_rate_decay = 0.96\n",
    "regularization = 0.1\n",
    "\n",
    "# Initialize a new neural network model\n",
    "net = NeuralNetwork(input_size, hidden_sizes, num_classes, num_layers)\n",
    "\n",
    "# Variables to store performance for each epoch\n",
    "train_loss = np.zeros(epochs)\n",
    "train_accuracy = np.zeros(epochs)\n",
    "val_accuracy = np.zeros(epochs)\n",
    "\n",
    "# For each epoch...\n",
    "for epoch in range(epochs):\n",
    "    print('epoch:', epoch)\n",
    "    \n",
    "    # Shuffle the dataset\n",
    "    \n",
    "    shuffle = list(zip(X_train, y_train))\n",
    "    np.random.shuffle(shuffle)\n",
    "    X_train_shuffled, y_train_shuffled = zip(*shuffle)\n",
    "    X_train_shuffled, y_train_shuffled = np.array(X_train_shuffled), np.array(y_train_shuffled)\n",
    "\n",
    "    # Training\n",
    "    \n",
    "    # Forward Pass\n",
    "    scores = net.forward(X_train_shuffled)\n",
    "    pred = np.argmax(scores, axis=1)\n",
    "    train_accuracy[epoch] += (pred == y_train_shuffled).sum()\n",
    "    train_accuracy[epoch] /= len(y_train_shuffled)\n",
    "    \n",
    "    # Backward Pass\n",
    "    train_loss[epoch] += net.backward(y_train_shuffled, regularization)\n",
    "    net.update(epoch + 1, learning_rate, 'SGD')\n",
    "    \n",
    "    # For each mini-batch...\n",
    "    for batch in range(TRAIN_IMAGES // batch_size):\n",
    "        # Create a mini-batch of training data and labels\n",
    "        indices = np.random.choice(list(range(y_train.shape[0])), size = batch_size)\n",
    "        X_batch = X_train_shuffled[indices, :]\n",
    "        y_batch = y_train_shuffled[indices]\n",
    "        \n",
    "        # Run the forward pass of the model to get a prediction and compute the accuracy\n",
    "        scores_minibatch = net.forward(X_batch)\n",
    "        pred_minibatch = np.argmax(scores_minibatch, axis=1)\n",
    "        train_accuracy[epoch] += (pred_minibatch == y_batch).sum()\n",
    "        train_accuracy[epoch] /= len(y_batch)\n",
    "        \n",
    "        # Run the backward pass of the model to compute the loss, and update the weights\n",
    "        train_loss[epoch] += net.backward(y_batch, regularization)\n",
    "        net.update(epoch + 1, learning_rate, 'SGD')\n",
    "\n",
    "    # Validation\n",
    "    val_scores = net.forward(X_val)\n",
    "    val_pred = np.argmax(val_scores, axis = 1)\n",
    "    \n",
    "    # No need to run the backward pass here, just run the forward pass to compute accuracy\n",
    "    val_accuracy[epoch] += (val_pred == y_val).sum()\n",
    "    val_accuracy[epoch] /= len(y_val)\n",
    "    \n",
    "    # Implement learning rate decay\n",
    "    learning_rate *= learning_rate_decay"
   ]
  },
  {
   "cell_type": "code",
   "execution_count": 344,
   "metadata": {},
   "outputs": [],
   "source": [
    "# Test\n",
    "test_scores = net.forward(X_test)\n",
    "test_pred_2 = np.argmax(test_scores, axis = 1)\n",
    "\n",
    "# No need to run the backward pass here, just run the forward pass to compute accuracy\n",
    "test_accuracy = (test_pred_2 == y_test).sum()/len(y_test)"
   ]
  },
  {
   "cell_type": "code",
   "execution_count": 345,
   "metadata": {},
   "outputs": [
    {
     "name": "stdout",
     "output_type": "stream",
     "text": [
      "Validation Accuracy on 2-layer SGD: 0.8699\n",
      "Test Accuracy on 2-layer SGD: 0.8708\n"
     ]
    }
   ],
   "source": [
    "print('Validation Accuracy on 2-layer SGD: {}'.format(round(val_accuracy.mean(), 4)))\n",
    "print('Test Accuracy on 2-layer SGD: {}'.format(test_accuracy))"
   ]
  },
  {
   "cell_type": "markdown",
   "metadata": {},
   "source": [
    "## Train using Adam"
   ]
  },
  {
   "cell_type": "code",
   "execution_count": 333,
   "metadata": {},
   "outputs": [
    {
     "name": "stdout",
     "output_type": "stream",
     "text": [
      "epoch: 0\n",
      "epoch: 1\n",
      "epoch: 2\n",
      "epoch: 3\n",
      "epoch: 4\n",
      "epoch: 5\n",
      "epoch: 6\n",
      "epoch: 7\n",
      "epoch: 8\n",
      "epoch: 9\n",
      "epoch: 10\n",
      "epoch: 11\n",
      "epoch: 12\n",
      "epoch: 13\n",
      "epoch: 14\n",
      "epoch: 15\n",
      "epoch: 16\n",
      "epoch: 17\n",
      "epoch: 18\n",
      "epoch: 19\n",
      "epoch: 20\n",
      "epoch: 21\n",
      "epoch: 22\n",
      "epoch: 23\n",
      "epoch: 24\n",
      "epoch: 25\n",
      "epoch: 26\n",
      "epoch: 27\n",
      "epoch: 28\n",
      "epoch: 29\n",
      "epoch: 30\n",
      "epoch: 31\n",
      "epoch: 32\n",
      "epoch: 33\n",
      "epoch: 34\n",
      "epoch: 35\n",
      "epoch: 36\n",
      "epoch: 37\n",
      "epoch: 38\n",
      "epoch: 39\n",
      "epoch: 40\n",
      "epoch: 41\n",
      "epoch: 42\n",
      "epoch: 43\n",
      "epoch: 44\n",
      "epoch: 45\n",
      "epoch: 46\n",
      "epoch: 47\n",
      "epoch: 48\n",
      "epoch: 49\n"
     ]
    }
   ],
   "source": [
    "# Hyperparameters\n",
    "input_size = 784\n",
    "num_layers = 2\n",
    "hidden_size = 20\n",
    "hidden_sizes = [hidden_size] * (num_layers - 1)\n",
    "num_classes = 10\n",
    "epochs = 50\n",
    "batch_size = 200\n",
    "learning_rate = 2e-3\n",
    "learning_rate_decay = 0.95\n",
    "regularization = 0.1\n",
    "\n",
    "# Initialize a new neural network model\n",
    "net = NeuralNetwork(input_size, hidden_sizes, num_classes, num_layers)\n",
    "\n",
    "# Variables to store performance for each epoch\n",
    "train_loss_a = np.zeros(epochs)\n",
    "train_accuracy_a = np.zeros(epochs)\n",
    "val_accuracy_a = np.zeros(epochs)\n",
    "\n",
    "# For each epoch...\n",
    "for epoch in range(epochs):\n",
    "    print('epoch:', epoch)\n",
    "    \n",
    "    # Shuffle the dataset\n",
    "    \n",
    "    shuffle = list(zip(X_train, y_train))\n",
    "    np.random.shuffle(shuffle)\n",
    "    X_train_shuffled, y_train_shuffled = zip(*shuffle)\n",
    "    X_train_shuffled, y_train_shuffled = np.array(X_train_shuffled), np.array(y_train_shuffled)\n",
    "\n",
    "    # Training\n",
    "    \n",
    "    # Forward Pass\n",
    "    scores = net.forward(X_train_shuffled)\n",
    "    pred = np.argmax(scores, axis=1)\n",
    "    train_accuracy_a[epoch] += (pred == y_train_shuffled).sum()\n",
    "    train_accuracy_a[epoch] /= len(y_train_shuffled)\n",
    "    \n",
    "    # Backward Pass\n",
    "    train_loss_a[epoch] += net.backward(y_train_shuffled, regularization)\n",
    "    net.update(epoch + 1, learning_rate, 'ADAM')\n",
    "    \n",
    "    # For each mini-batch...\n",
    "    for batch in range(TRAIN_IMAGES // batch_size):\n",
    "        # Create a mini-batch of training data and labels\n",
    "        indices = np.random.choice(list(range(y_train.shape[0])), size = batch_size)\n",
    "        X_batch = X_train_shuffled[indices, :]\n",
    "        y_batch = y_train_shuffled[indices]\n",
    "        \n",
    "        # Run the forward pass of the model to get a prediction and compute the accuracy\n",
    "        scores_minibatch = net.forward(X_batch)\n",
    "        pred_minibatch = np.argmax(scores_minibatch, axis=1)\n",
    "        train_accuracy_a[epoch] += (pred_minibatch == y_batch).sum()\n",
    "        train_accuracy_a[epoch] /= len(y_batch)\n",
    "        \n",
    "        # Run the backward pass of the model to compute the loss, and update the weights\n",
    "        train_loss_a[epoch] += net.backward(y_batch, regularization)\n",
    "        net.update(epoch + 1, learning_rate, 'ADAM')\n",
    "\n",
    "    # Validation\n",
    "    val_scores = net.forward(X_val)\n",
    "    val_pred = np.argmax(val_scores, axis = 1)\n",
    "    \n",
    "    # No need to run the backward pass here, just run the forward pass to compute accuracy\n",
    "    val_accuracy_a[epoch] += (val_pred == y_val).sum()\n",
    "    val_accuracy_a[epoch] /= len(y_val)\n",
    "    \n",
    "    # Implement learning rate decay\n",
    "    learning_rate *= learning_rate_decay"
   ]
  },
  {
   "cell_type": "code",
   "execution_count": 334,
   "metadata": {},
   "outputs": [],
   "source": [
    "# Test\n",
    "test_scores = net.forward(X_test)\n",
    "test_pred_2a = np.argmax(test_scores, axis = 1)\n",
    "\n",
    "# No need to run the backward pass here, just run the forward pass to compute accuracy\n",
    "test_accuracy_a = (test_pred_2a == y_test).sum()/len(y_test)"
   ]
  },
  {
   "cell_type": "code",
   "execution_count": 335,
   "metadata": {},
   "outputs": [
    {
     "name": "stdout",
     "output_type": "stream",
     "text": [
      "Validation Accuracy on 2-layer Adam: 0.8545\n",
      "Test Accuracy on 2-layer Adam: 0.8683\n"
     ]
    }
   ],
   "source": [
    "print('Validation Accuracy on 2-layer Adam: {}'.format(round(val_accuracy_a.mean(), 4)))\n",
    "print('Test Accuracy on 2-layer Adam: {}'.format(test_accuracy_a))"
   ]
  },
  {
   "cell_type": "markdown",
   "metadata": {},
   "source": [
    "## Evaluation on the test set"
   ]
  },
  {
   "cell_type": "code",
   "execution_count": 339,
   "metadata": {},
   "outputs": [],
   "source": [
    "best_2layer_sgd_prediction = test_pred_2\n",
    "best_2layer_adam_prediction = test_pred_2a"
   ]
  },
  {
   "cell_type": "markdown",
   "metadata": {},
   "source": [
    "## Compare SGD and Adam"
   ]
  },
  {
   "cell_type": "code",
   "execution_count": 347,
   "metadata": {},
   "outputs": [
    {
     "data": {
      "image/png": "[encoded data removed]",
      "text/plain": [
       "<Figure size 720x576 with 2 Axes>"
      ]
     },
     "metadata": {
      "needs_background": "light"
     },
     "output_type": "display_data"
    }
   ],
   "source": [
    "# Plot the loss function and train / validation accuracies\n",
    "plt.subplot(2, 1, 1)\n",
    "plt.plot(train_loss)\n",
    "plt.plot(train_loss_a)\n",
    "plt.legend(['SGD loss', 'Adam loss'])\n",
    "plt.title('Loss history')\n",
    "plt.xlabel('Iteration')\n",
    "plt.ylabel('Loss')\n",
    "\n",
    "plt.subplot(2, 1, 2)\n",
    "plt.plot(val_accuracy, label='val SGD')\n",
    "plt.plot(val_accuracy_a, label='val Adam')\n",
    "plt.legend(['SGD val acc', 'Adam val acc'])\n",
    "plt.title('Classification accuracy history')\n",
    "plt.xlabel('Epoch')\n",
    "plt.ylabel('Classification accuracy')\n",
    "\n",
    "\n",
    "plt.tight_layout()\n",
    "plt.show()"
   ]
  }
 ],
 "metadata": {
  "kernelspec": {
   "display_name": "Python 3 (ipykernel)",
   "language": "python",
   "name": "python3"
  },
  "language_info": {
   "codemirror_mode": {
    "name": "ipython",
    "version": 3
   },
   "file_extension": ".py",
   "mimetype": "text/x-python",
   "name": "python",
   "nbconvert_exporter": "python",
   "pygments_lexer": "ipython3",
   "version": "3.8.5"
  }
 },
 "nbformat": 4,
 "nbformat_minor": 4
}
